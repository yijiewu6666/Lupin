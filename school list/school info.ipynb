{
 "cells": [
  {
   "cell_type": "code",
   "execution_count": 2,
   "metadata": {},
   "outputs": [],
   "source": [
    "from requests_html import HTMLSession"
   ]
  },
  {
   "cell_type": "code",
   "execution_count": 93,
   "metadata": {},
   "outputs": [],
   "source": [
    "# session = HTMLSession()\n"
   ]
  },
  {
   "cell_type": "code",
   "execution_count": 94,
   "metadata": {},
   "outputs": [],
   "source": [
    "# r = session.get(url)"
   ]
  },
  {
   "cell_type": "code",
   "execution_count": 95,
   "metadata": {},
   "outputs": [],
   "source": [
    "# #print(r.html.text)\n",
    "# sel='#acc_1-0_panel_3 > ul:nth-child(5) > li:nth-child(1)'\n"
   ]
  },
  {
   "cell_type": "code",
   "execution_count": 96,
   "metadata": {},
   "outputs": [],
   "source": [
    "# def get_text_link_from_sel(sel):\n",
    "#     mylist = []\n",
    "#     try:\n",
    "#         results = r.html.find(sel)\n",
    "#         for result in results:\n",
    "#             mytext = result.text\n",
    "#             print(mytext)\n",
    "#             mylink = list(result.absolute_links)[0]\n",
    "#             print(mylink)\n",
    "#             mylist.append((mytext, mylink))\n",
    "#         return mylist\n",
    "#     except:\n",
    "#         return None"
   ]
  },
  {
   "cell_type": "code",
   "execution_count": 97,
   "metadata": {},
   "outputs": [],
   "source": [
    "# results = r.html.find(sel)\n",
    "# results"
   ]
  },
  {
   "cell_type": "code",
   "execution_count": 98,
   "metadata": {},
   "outputs": [],
   "source": [
    "# print(get_text_link_from_sel(sel))"
   ]
  },
  {
   "cell_type": "code",
   "execution_count": 3,
   "metadata": {},
   "outputs": [],
   "source": [
    "#coding=utf-8\n",
    "from urllib import request   #python3使用urllib,python2可以使用urllib2\n",
    "from bs4 import BeautifulSoup\n",
    "from lxml import etree\n",
    "import csv\n",
    "import pandas as pd\n",
    "import re\n",
    "\n"
   ]
  },
  {
   "cell_type": "code",
   "execution_count": 51,
   "metadata": {},
   "outputs": [],
   "source": [
    "#打开url，获取所有table的内容\n",
    "course = 'https://warwick.ac.uk/study/postgraduate/courses/'\n",
    "page = request.urlopen(course)\n",
    "soup = BeautifulSoup(page,'lxml')\n",
    "#table_node = soup.find_all('table')\n"
   ]
  },
  {
   "cell_type": "code",
   "execution_count": 58,
   "metadata": {},
   "outputs": [],
   "source": [
    "\n",
    "# for i in soup.find_all('a',text='courses'):\n",
    "#     print(i.attrs['href'])"
   ]
  },
  {
   "cell_type": "code",
   "execution_count": 59,
   "metadata": {},
   "outputs": [],
   "source": [
    "courses=[]\n",
    "for i in soup.find_all('a')[64:]:\n",
    "    courses.append(i.attrs['href'])"
   ]
  },
  {
   "cell_type": "code",
   "execution_count": 63,
   "metadata": {},
   "outputs": [],
   "source": [
    "final=[]\n",
    "for i in courses:\n",
    "    if 'postgraduate' in i:\n",
    "        final.append(i)"
   ]
  },
  {
   "cell_type": "code",
   "execution_count": 88,
   "metadata": {},
   "outputs": [],
   "source": [
    "final=final[:-1]"
   ]
  },
  {
   "cell_type": "code",
   "execution_count": 97,
   "metadata": {},
   "outputs": [],
   "source": [
    "names=[]\n",
    "for i in final:\n",
    "    name=i.split('/')[-1]\n",
    "    names.append(name)"
   ]
  },
  {
   "cell_type": "code",
   "execution_count": 98,
   "metadata": {},
   "outputs": [],
   "source": [
    "df=pd.DataFrame(list(zip(names,final)),columns=['Course','Link'])"
   ]
  },
  {
   "cell_type": "code",
   "execution_count": 93,
   "metadata": {},
   "outputs": [],
   "source": [
    "Gmat=[]\n",
    "for i in final:\n",
    "    url = i\n",
    "    page = request.urlopen(url)\n",
    "    soup = BeautifulSoup(page,'lxml')\n",
    "    test=soup.find_all(string=re.compile(\"GMAT\"))\n",
    "    temp=''\n",
    "    for i in test:\n",
    "        temp+=i\n",
    "    Gmat.append(temp)\n",
    "#table_node = soup.find_all('table')"
   ]
  },
  {
   "cell_type": "code",
   "execution_count": 94,
   "metadata": {},
   "outputs": [],
   "source": [
    "Ielts=[]\n",
    "for i in final:\n",
    "    url = i\n",
    "    page = request.urlopen(url)\n",
    "    soup = BeautifulSoup(page,'lxml')\n",
    "    test=soup.find_all(string=re.compile(\"IELTS\"))\n",
    "    temp=''\n",
    "    for i in test:\n",
    "        temp+=i\n",
    "    Ielts.append(temp)\n",
    "#table_node = soup.find_all('table')"
   ]
  },
  {
   "cell_type": "code",
   "execution_count": 95,
   "metadata": {},
   "outputs": [],
   "source": [
    "Degree=[]\n",
    "for i in final:\n",
    "    url = i\n",
    "    page = request.urlopen(url)\n",
    "    soup = BeautifulSoup(page,'lxml')\n",
    "    test=soup.find_all(string=re.compile(\"degree\"))\n",
    "    temp=''\n",
    "    for i in test:\n",
    "        temp+=i\n",
    "    Degree.append(temp)\n",
    "#table_node = soup.find_all('table')"
   ]
  },
  {
   "cell_type": "code",
   "execution_count": 99,
   "metadata": {},
   "outputs": [],
   "source": [
    "df['GMAT']=Gmat\n",
    "df['IELTS']=Ielts\n",
    "df['Degree']=Degree"
   ]
  },
  {
   "cell_type": "code",
   "execution_count": 100,
   "metadata": {},
   "outputs": [
    {
     "data": {
      "text/html": [
       "<div>\n",
       "<style scoped>\n",
       "    .dataframe tbody tr th:only-of-type {\n",
       "        vertical-align: middle;\n",
       "    }\n",
       "\n",
       "    .dataframe tbody tr th {\n",
       "        vertical-align: top;\n",
       "    }\n",
       "\n",
       "    .dataframe thead th {\n",
       "        text-align: right;\n",
       "    }\n",
       "</style>\n",
       "<table border=\"1\" class=\"dataframe\">\n",
       "  <thead>\n",
       "    <tr style=\"text-align: right;\">\n",
       "      <th></th>\n",
       "      <th>Course</th>\n",
       "      <th>Link</th>\n",
       "      <th>GMAT</th>\n",
       "      <th>IELTS</th>\n",
       "      <th>Degree</th>\n",
       "    </tr>\n",
       "  </thead>\n",
       "  <tbody>\n",
       "    <tr>\n",
       "      <th>0</th>\n",
       "      <td>accountingandfinance</td>\n",
       "      <td>https://warwick.ac.uk/study/postgraduate/cours...</td>\n",
       "      <td></td>\n",
       "      <td>IELTS overall score of 7.0, minimum component ...</td>\n",
       "      <td>Explore our Accounting and Finance taught Mast...</td>\n",
       "    </tr>\n",
       "    <tr>\n",
       "      <th>1</th>\n",
       "      <td>lifelonglearningphd</td>\n",
       "      <td>https://warwick.ac.uk/study/postgraduate/cours...</td>\n",
       "      <td></td>\n",
       "      <td>IELTS overall score of 7.0, minimum component ...</td>\n",
       "      <td>Find out more about this Adult Education and L...</td>\n",
       "    </tr>\n",
       "    <tr>\n",
       "      <th>2</th>\n",
       "      <td></td>\n",
       "      <td>https://warwick.ac.uk/study/postgraduate/cours...</td>\n",
       "      <td></td>\n",
       "      <td>IELTS overall score of 6.5, minimum component ...</td>\n",
       "      <td>Find out more about this CDT to Advance the De...</td>\n",
       "    </tr>\n",
       "    <tr>\n",
       "      <th>3</th>\n",
       "      <td>criticalcarepractice</td>\n",
       "      <td>https://warwick.ac.uk/study/postgraduate/cours...</td>\n",
       "      <td></td>\n",
       "      <td></td>\n",
       "      <td>Explore our Advanced Clinical Practice (Critic...</td>\n",
       "    </tr>\n",
       "    <tr>\n",
       "      <th>4</th>\n",
       "      <td>clinicalpractice</td>\n",
       "      <td>https://warwick.ac.uk/study/postgraduate/cours...</td>\n",
       "      <td></td>\n",
       "      <td></td>\n",
       "      <td>Skills from this degreeHold a BSc degree at 2n...</td>\n",
       "    </tr>\n",
       "    <tr>\n",
       "      <th>...</th>\n",
       "      <td>...</td>\n",
       "      <td>...</td>\n",
       "      <td>...</td>\n",
       "      <td>...</td>\n",
       "      <td>...</td>\n",
       "    </tr>\n",
       "    <tr>\n",
       "      <th>250</th>\n",
       "      <td>vmcancientgreece</td>\n",
       "      <td>https://warwick.ac.uk/study/postgraduate/cours...</td>\n",
       "      <td></td>\n",
       "      <td>IELTS overall score of 7.0, minimum component ...</td>\n",
       "      <td>Explore our Visual and Material Culture of Anc...</td>\n",
       "    </tr>\n",
       "    <tr>\n",
       "      <th>251</th>\n",
       "      <td>vmcancientrome</td>\n",
       "      <td>https://warwick.ac.uk/study/postgraduate/cours...</td>\n",
       "      <td></td>\n",
       "      <td>IELTS overall score of 7.0, minimum component ...</td>\n",
       "      <td>Explore our Visual and Material Culture of Anc...</td>\n",
       "    </tr>\n",
       "    <tr>\n",
       "      <th>252</th>\n",
       "      <td>womengenderstudies</td>\n",
       "      <td>https://warwick.ac.uk/study/postgraduate/cours...</td>\n",
       "      <td></td>\n",
       "      <td>IELTS overall score of 7.0, minimum component ...</td>\n",
       "      <td>A Master’s degree (or equivalent) in Sociology...</td>\n",
       "    </tr>\n",
       "    <tr>\n",
       "      <th>253</th>\n",
       "      <td>worldliterature</td>\n",
       "      <td>https://warwick.ac.uk/study/postgraduate/cours...</td>\n",
       "      <td></td>\n",
       "      <td>IELTS overall score of 7.5, minimum component ...</td>\n",
       "      <td>Explore our World Literature taught Master's d...</td>\n",
       "    </tr>\n",
       "    <tr>\n",
       "      <th>254</th>\n",
       "      <td>writing</td>\n",
       "      <td>https://warwick.ac.uk/study/postgraduate/cours...</td>\n",
       "      <td></td>\n",
       "      <td>IELTS overall score of 7.5, minimum component ...</td>\n",
       "      <td>Explore our taught Master's degree in Writing....</td>\n",
       "    </tr>\n",
       "  </tbody>\n",
       "</table>\n",
       "<p>255 rows × 5 columns</p>\n",
       "</div>"
      ],
      "text/plain": [
       "                   Course                                               Link  \\\n",
       "0    accountingandfinance  https://warwick.ac.uk/study/postgraduate/cours...   \n",
       "1     lifelonglearningphd  https://warwick.ac.uk/study/postgraduate/cours...   \n",
       "2                          https://warwick.ac.uk/study/postgraduate/cours...   \n",
       "3    criticalcarepractice  https://warwick.ac.uk/study/postgraduate/cours...   \n",
       "4        clinicalpractice  https://warwick.ac.uk/study/postgraduate/cours...   \n",
       "..                    ...                                                ...   \n",
       "250      vmcancientgreece  https://warwick.ac.uk/study/postgraduate/cours...   \n",
       "251        vmcancientrome  https://warwick.ac.uk/study/postgraduate/cours...   \n",
       "252    womengenderstudies  https://warwick.ac.uk/study/postgraduate/cours...   \n",
       "253       worldliterature  https://warwick.ac.uk/study/postgraduate/cours...   \n",
       "254               writing  https://warwick.ac.uk/study/postgraduate/cours...   \n",
       "\n",
       "    GMAT                                              IELTS  \\\n",
       "0         IELTS overall score of 7.0, minimum component ...   \n",
       "1         IELTS overall score of 7.0, minimum component ...   \n",
       "2         IELTS overall score of 6.5, minimum component ...   \n",
       "3                                                             \n",
       "4                                                             \n",
       "..   ...                                                ...   \n",
       "250       IELTS overall score of 7.0, minimum component ...   \n",
       "251       IELTS overall score of 7.0, minimum component ...   \n",
       "252       IELTS overall score of 7.0, minimum component ...   \n",
       "253       IELTS overall score of 7.5, minimum component ...   \n",
       "254       IELTS overall score of 7.5, minimum component ...   \n",
       "\n",
       "                                                Degree  \n",
       "0    Explore our Accounting and Finance taught Mast...  \n",
       "1    Find out more about this Adult Education and L...  \n",
       "2    Find out more about this CDT to Advance the De...  \n",
       "3    Explore our Advanced Clinical Practice (Critic...  \n",
       "4    Skills from this degreeHold a BSc degree at 2n...  \n",
       "..                                                 ...  \n",
       "250  Explore our Visual and Material Culture of Anc...  \n",
       "251  Explore our Visual and Material Culture of Anc...  \n",
       "252  A Master’s degree (or equivalent) in Sociology...  \n",
       "253  Explore our World Literature taught Master's d...  \n",
       "254  Explore our taught Master's degree in Writing....  \n",
       "\n",
       "[255 rows x 5 columns]"
      ]
     },
     "execution_count": 100,
     "metadata": {},
     "output_type": "execute_result"
    }
   ],
   "source": [
    "df"
   ]
  },
  {
   "cell_type": "code",
   "execution_count": 102,
   "metadata": {},
   "outputs": [],
   "source": [
    "df.to_excel('output.xlsx', index=False)"
   ]
  },
  {
   "cell_type": "code",
   "execution_count": 84,
   "metadata": {},
   "outputs": [],
   "source": [
    "#test=soup.find_all(string=re.compile(\"GMAT\"))\n",
    "\n"
   ]
  },
  {
   "cell_type": "code",
   "execution_count": 88,
   "metadata": {},
   "outputs": [
    {
     "data": {
      "text/plain": [
       "['We may consider candidates applying to MSc Business Analytics (online delivery, part-time) with non-traditional qualifications and backgrounds, on the basis of highly relevant work experience or demonstrated interest. If you come from a less quantitative degree background we advise you to take the GMAT or GRE test to demonstrate your quantitative ability.',\n",
       " 'GMAT is not required for MSc Business Analytics, but a well-balanced GMAT result with 650 or higher overall and a good result in the quantitative reasoning section will add weight to you application.',\n",
       " 'How can GMAT benefit an MSc application?']"
      ]
     },
     "execution_count": 88,
     "metadata": {},
     "output_type": "execute_result"
    }
   ],
   "source": [
    "#test\n"
   ]
  },
  {
   "cell_type": "code",
   "execution_count": 85,
   "metadata": {},
   "outputs": [],
   "source": [
    "# temp=''\n",
    "\n",
    "# for i in test:\n",
    "#     temp+=i\n",
    "# temp"
   ]
  }
 ],
 "metadata": {
  "interpreter": {
   "hash": "9fac86fd4da7400ce0552ab9435a7450d7061f0038ff5d1af969818534cfb29e"
  },
  "kernelspec": {
   "display_name": "Python 3.7.6 64-bit ('base': conda)",
   "language": "python",
   "name": "python3"
  },
  "language_info": {
   "codemirror_mode": {
    "name": "ipython",
    "version": 3
   },
   "file_extension": ".py",
   "mimetype": "text/x-python",
   "name": "python",
   "nbconvert_exporter": "python",
   "pygments_lexer": "ipython3",
   "version": "3.7.6"
  },
  "orig_nbformat": 4
 },
 "nbformat": 4,
 "nbformat_minor": 2
}
