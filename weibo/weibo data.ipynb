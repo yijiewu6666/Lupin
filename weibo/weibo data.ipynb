{
 "cells": [
  {
   "cell_type": "code",
   "execution_count": 1,
   "metadata": {},
   "outputs": [],
   "source": [
    "host = 'm.weibo.cn'\n",
    "base_url = 'https://%s/api/container/getIndex?' % host\n",
    "user_agent = 'User-Agent: Mozilla/5.0 (iPhone; CPU iPhone OS 9_1 like Mac OS X) AppleWebKit/601.1.46 (KHTML, like Gecko) Version/9.0 Mobile/13B143 Safari/601.1 wechatdevtools/0.7.0 MicroMessenger/6.3.9 Language/zh_CN webview/0'#这里的user_agent是网上找的\n",
    "\n",
    "user_id = str(1824301624)#这串数字就是用户id\n",
    "headers = {\n",
    "    'Host': host,\n",
    "    'Referer': 'https://m.weibo.cn/u/%s'%user_id,\n",
    "    'User-Agent': user_agent\n",
    "}\n"
   ]
  },
  {
   "cell_type": "code",
   "execution_count": 2,
   "metadata": {},
   "outputs": [],
   "source": [
    "import datetime\n",
    "def tst(time_str):\n",
    "    now_time = datetime.datetime.now()\n",
    "    if time_str.endswith('分钟前') or time_str.endswith('小时前') or time_str == '刚刚':\n",
    "        #strptime是把字符串转换为时间类。strftime是把时间转换为字符串\n",
    "        time_standard = datetime.datetime.strftime(now_time.date(),'%Y-%m-%d')\n",
    "    elif time_str.startswith('昨天'):\n",
    "        time_standard = datetime.datetime.strftime((now_time - datetime.timedelta(days = 1)).date(),'%Y-%m-%d')\n",
    "    elif time_str.startswith('0') or time_str.startswith('1'):\n",
    "        time_standard = str(now_time.year) + '-' + time_str\n",
    "    elif time_str.startswith('20'):\n",
    "        time_standard = time_str\n",
    "    return time_standard"
   ]
  },
  {
   "cell_type": "code",
   "execution_count": 3,
   "metadata": {},
   "outputs": [],
   "source": [
    "import requests\n",
    "import urllib\n",
    "import time\n",
    "import os\n",
    "#import package.timestr_standard as tst\n",
    "from tqdm import tqdm\n",
    "from urllib.parse import urlencode\n",
    "from pyquery import PyQuery as pq\n"
   ]
  },
  {
   "cell_type": "code",
   "execution_count": 4,
   "metadata": {},
   "outputs": [],
   "source": [
    "def get_single_page(page):\n",
    "    params = {\n",
    "        'type': 'uid',\n",
    "        'value': 1665372775,\n",
    "        'containerid': int('107603' + user_id),#containerid就是微博用户id前面加上107603\n",
    "        'page': page\n",
    "    }\n",
    "    url = base_url + urlencode(params)\n",
    "    try:\n",
    "        response = requests.get(url, headers=headers)\n",
    "        if response.status_code == 200:\n",
    "            return response.json()\n",
    "    except requests.ConnectionError as e:\n",
    "        print('抓取错误', e.args)\n"
   ]
  },
  {
   "cell_type": "code",
   "execution_count": 5,
   "metadata": {},
   "outputs": [],
   "source": [
    "# 解析页面返回的json数据\n",
    "def analysis_page(json,pic_filebagPath):#保存图片的文件夹路径\n",
    "    items = json.get('data').get('cards')\n",
    "    for item in items:\n",
    "        item = item.get('mblog')\n",
    "        if item:\n",
    "            data = {\n",
    "                'created_at': item.get('created_at'),#微博创建日期\n",
    "                'text': pq(item.get(\"text\")).text(),  # 仅提取内容中的文本\n",
    "                'attitudes': item.get('attitudes_count'),#点赞数\n",
    "                'comments': item.get('comments_count'),#评论数\n",
    "                'reposts': item.get('reposts_count')#转发数\n",
    "            }\n",
    "            base_data[len(base_data)] = data#把得到的数据字典存入总字典\n",
    "            if pic_choice == 'y':#如果选择保存图片\n",
    "                pics = item.get('pics')\n",
    "                if pics:\n",
    "                    for pic in pics:\n",
    "                        picture_url = pic.get('large').get('url')#得到原图地址\n",
    "                        pid = pic.get('pid')#图片id\n",
    "                        pic_name = tst.timestr_standard(data['created_at']) + '_' + pid[25:]#构建保存图片文件名，timestr_standard是一个把微博的created_at字符串转换为‘XXXX-XX-XX’形式日期的一个函数\n",
    "                        download_pics(picture_url,pic_name,pic_filebagPath)#下载原图\n"
   ]
  },
  {
   "cell_type": "code",
   "execution_count": 6,
   "metadata": {},
   "outputs": [],
   "source": [
    "def download_pics(pic_url,pic_name,pic_filebagPath): #pic_url大图地址，pic_name保存图片的文件名\n",
    "    pic_filePath = pic_filebagPath + '\\\\'\n",
    "    try:\n",
    "        if pic_url.endswith('.jpg'):#保存jpg图片\n",
    "            f = open(pic_filePath + str(pic_name)+\".jpg\", 'wb')\n",
    "        if pic_url.endswith('.gif'):#保存gif图片\n",
    "            f = open(pic_filePath + str(pic_name)+\".gif\", 'wb')\n",
    "        f.write((urllib.request.urlopen(pic_url)).read())\n",
    "        f.close()\n",
    "    except Exception as e:\n",
    "        print(pic_name+\" error\",e)\n",
    "    time.sleep(0.1)#下载间隙\n"
   ]
  },
  {
   "cell_type": "code",
   "execution_count": 9,
   "metadata": {},
   "outputs": [],
   "source": [
    "if __name__ == '__main__':\n",
    "    base_data = {}\n",
    "    page = input('20')#可输入爬取页数，或者输入‘all’爬取所有微博\n",
    "    pic_choice = input('n')#选择是否保存图片\n",
    "    time_start=time.time()\n",
    "    try:\n",
    "        json = get_single_page(1)\n",
    "        screen_name = json.get('data').get('cards')[0].get('mblog').get('user').get('screen_name')#博主昵称\n",
    "        total = json.get('data').get('cardlistInfo').get('total')#博主微博总条数\n",
    "        if pic_choice == 'y':#如果选择保存图片，则分配图片保存路径\n",
    "            pic_filebagPath = 'Users/YijieWu/Desktop/爬虫/weibo/%s_picture'%screen_name\n",
    "            os.makedirs(pic_filebagPath)#建立文件夹\n",
    "        else:\n",
    "            pic_filebagPath = None#选择不保存文件夹则不分配路径\n",
    "        if page == 'all':#寻找总条数\n",
    "            page = total//10\n",
    "            while get_single_page(page).get('ok') == 1:\n",
    "                page = page + 1\n",
    "            print('总页数为：%s'%page)\n",
    "        \n",
    "        page = int(page) + 1\n",
    "        for page in tqdm(range(1,page)):  # 抓取数据\n",
    "            json = get_single_page(page)\n",
    "            analysis_page(json,pic_filebagPath)\n",
    "    except Exception as e:\n",
    "        print('error:',e)\n",
    "    finally:\n",
    "        base_dataPath = 'Users/YijieWu/Desktop/爬虫/weibo/base_data_%s.txt'%screen_name#base_data保存地址和文件名\n",
    "        f = open(base_dataPath,'w+',encoding='utf-8')\n",
    "        f.write(str(base_data))\n",
    "        f.close()\n",
    "        time_end=time.time()\n",
    "        print('\\n totally cost',time_end-time_start)#显示程序运行时间\n"
   ]
  }
 ],
 "metadata": {
  "interpreter": {
   "hash": "d8f46cba240edbbd1a14b71c710320e33c6e520c19f37c72e62515f174c1ce74"
  },
  "kernelspec": {
   "display_name": "Python 3.7.7 64-bit ('pythonstudy': conda)",
   "language": "python",
   "name": "python3"
  },
  "language_info": {
   "codemirror_mode": {
    "name": "ipython",
    "version": 3
   },
   "file_extension": ".py",
   "mimetype": "text/x-python",
   "name": "python",
   "nbconvert_exporter": "python",
   "pygments_lexer": "ipython3",
   "version": "3.7.7"
  },
  "orig_nbformat": 4
 },
 "nbformat": 4,
 "nbformat_minor": 2
}
